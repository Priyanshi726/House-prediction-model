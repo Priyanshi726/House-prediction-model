{
 "cells": [
  {
   "cell_type": "code",
   "execution_count": 3,
   "metadata": {},
   "outputs": [],
   "source": [
    "import tkinter as tk\n",
    "import pandas as pd\n",
    "import matplotlib.pyplot as plt\n",
    "import seaborn as sns\n",
    "import warnings\n",
    "warnings.filterwarnings('ignore')"
   ]
  },
  {
   "cell_type": "code",
   "execution_count": 4,
   "metadata": {},
   "outputs": [
    {
     "name": "stdout",
     "output_type": "stream",
     "text": [
      "Price for the house can be: 7059739.3$\n"
     ]
    }
   ],
   "source": [
    "df = pd.read_csv('housing.csv')\n",
    "x= df[['Avg. Area Income','Avg. Area House Age','Avg. Area Number of Rooms','Area Population']]\n",
    "y= df['Price']\n",
    "from sklearn.model_selection import train_test_split\n",
    "xtrain,xtest,ytrain,ytest = train_test_split(x,y,test_size=0.25,random_state = 10)\n",
    "from sklearn.linear_model import LinearRegression\n",
    "model = LinearRegression()\n",
    "model.fit(xtrain,ytrain)\n",
    "model.score(xtest,ytest) *100\n",
    "final_model = model\n",
    "pd.to_pickle(final_model,'HousePredictionModel')\n",
    "\n",
    "\n",
    "## Defining Function \n",
    "\n",
    "\n",
    "def Predict():\n",
    "    model = pd.read_pickle(\"HousePredictionModel\")\n",
    "    cols = ['Avg Area Income','Avg. Area House Age','Avg. Area Number of Rooms','Area Population']\n",
    "    query = pd.DataFrame({'Avg.Area Income':[Income_var.get()],'Avg. Area House Age':[House_var.get()],'Avg. Number of Rooms':[Rooms_var.get()],'Area Population':[Population_var.get()]})\n",
    "    print('Price for the house can be: %.1f$'%(model.predict(query)[0]))\n",
    "\n",
    "    \n",
    "## Creating GUI\n",
    "\n",
    "\n",
    "app = tk.Tk()\n",
    "app.geometry('500x450')\n",
    "app.title(\"House Prediction System\")\n",
    "app.configure(background='#567')\n",
    "    \n",
    "\n",
    "\n",
    "\n",
    "\n",
    "# Creating Label \n",
    "tk.Label(app,text='House Prediction Model',font=('georgia', 15 ,\"bold\"),bg='black',fg='red').place(x=100,y=10)\n",
    "tk.Label(app, text='Enter The Income',font=('Georgia',10),fg= 'Black').place(x=50,y=50)\n",
    "tk.Label(app, text='Enter The House Age',font=('Georgia',10),fg='black').place(x=50,y=100)\n",
    "tk.Label(app, text='Enter No. of Rooms',font=('Georgia',10),fg='black').place(x=50,y=150)\n",
    "tk.Label(app, text='Enter The Populatiion',font=('Georgia',10),fg='black').place(x=50,y=200)\n",
    "\n",
    "# Declaring Variables\n",
    "\n",
    "Income_var=tk.Variable(app)\n",
    "tk.Entry(app,textvariable = Income_var,width=30,fg='black').place(x=200,y=50)\n",
    "House_var=tk.Variable(app)\n",
    "tk.Entry(app,textvariable = House_var,width=30,fg='black').place(x=200,y=100)\n",
    "Rooms_var=tk.Variable(app)\n",
    "tk.Entry(app,textvariable = Rooms_var,width=30,fg='black').place(x=200,y=150)\n",
    "Population_var=tk.Variable(app)\n",
    "tk.Entry(app,textvariable = Population_var,width=30,fg='black').place(x=200,y=200)\n",
    "\n",
    "#Creting Display\n",
    "\n",
    "\n",
    "\n",
    "# Creating Button\n",
    "tk.Button(app,text='Predict Price',font='Algerian',bg='Black',width=15,fg='White', command=Predict).place(x=150,y=250)\n",
    "\n",
    "\n",
    "app.mainloop()\n",
    "    "
   ]
  },
  {
   "cell_type": "code",
   "execution_count": null,
   "metadata": {},
   "outputs": [],
   "source": []
  },
  {
   "cell_type": "code",
   "execution_count": null,
   "metadata": {},
   "outputs": [],
   "source": []
  }
 ],
 "metadata": {
  "kernelspec": {
   "display_name": "Python 3",
   "language": "python",
   "name": "python3"
  },
  "language_info": {
   "codemirror_mode": {
    "name": "ipython",
    "version": 3
   },
   "file_extension": ".py",
   "mimetype": "text/x-python",
   "name": "python",
   "nbconvert_exporter": "python",
   "pygments_lexer": "ipython3",
   "version": "3.8.8"
  }
 },
 "nbformat": 4,
 "nbformat_minor": 4
}
